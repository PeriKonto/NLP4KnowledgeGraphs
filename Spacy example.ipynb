{
 "cells": [
  {
   "cell_type": "code",
   "execution_count": 6,
   "id": "852651cd",
   "metadata": {},
   "outputs": [
    {
     "name": "stdout",
     "output_type": "stream",
     "text": [
      "considered the exposure scenario of halide solar cell panels in operation , failing due to harsh environmental conditions .\n",
      "This may create a lead leakage in the nearby water bodies , an ecotoxicology problem .\n",
      "Effectively , the relatively high - water solubility of lead halide salts comprising perovskite may decompose to PbI2 , hydroiodic acid , and methylamine .\n",
      "The degradation products could be evaluated with regard to ecotoxicity ( e.g. Zebrafsh , Daphnia and C. elegans media )\n"
     ]
    }
   ],
   "source": [
    "import spacy\n",
    "\n",
    "# Load SpaCy English model\n",
    "nlp = spacy.load(\"en_core_web_sm\")\n",
    "\n",
    "# Input text with coreferences\n",
    "text = \"considered the exposure scenario of halide solar cell panels in operation, failing due to harsh environmental conditions. This may create a lead leakage in the nearby water bodies, an ecotoxicology problem. Effectively, the relatively high-water solubility of lead halide salts comprising perovskite may decompose to PbI2, hydroiodic acid, and methylamine. The degradation products could be evaluated with regard to ecotoxicity (e.g. Zebrafsh, Daphnia and C. elegans media)\"\n",
    "\n",
    "# Process text\n",
    "doc = nlp(text)\n",
    "\n",
    "# Iterate through sentences\n",
    "for sent in doc.sents:\n",
    "    # Collect named entities and noun chunks\n",
    "    entities = {ent.text.lower() for ent in sent.ents}\n",
    "    noun_chunks = {chunk.text.lower() for chunk in sent.noun_chunks}\n",
    "    \n",
    "    # Resolve coreferences\n",
    "    resolved_text = []\n",
    "    for token in sent:\n",
    "        if token.text.lower() in ['he', 'she', 'it', 'they']:\n",
    "            antecedent = None\n",
    "            # Look for closest named entity or noun chunk as antecedent\n",
    "            for ancestor in token.ancestors:\n",
    "                if ancestor.text.lower() in entities or ancestor.text.lower() in noun_chunks:\n",
    "                    antecedent = ancestor.text\n",
    "                    break\n",
    "            resolved_text.append(antecedent if antecedent else token.text)\n",
    "        else:\n",
    "            resolved_text.append(token.text)\n",
    "    \n",
    "    # Print resolved sentence\n",
    "    print(' '.join(resolved_text))\n"
   ]
  },
  {
   "cell_type": "code",
   "execution_count": 3,
   "id": "ac69bf60",
   "metadata": {},
   "outputs": [],
   "source": [
    "import spacy\n",
    "def extract_entities(sents):\n",
    "   # chunk one\n",
    "   enti_one = \"\"\n",
    "   enti_two = \"\"\n",
    "  \n",
    "   dep_prev_token = \"\" # dependency tag of previous token in sentence\n",
    "  \n",
    "   txt_prev_token = \"\" # previous token in sentence\n",
    "  \n",
    "   prefix = \"\"\n",
    "   modifier = \"\"\n",
    "  \n",
    "  \n",
    "  \n",
    "   for tokn in nlp(sents):\n",
    "       # chunk two\n",
    "       ## move to next token if token is punctuation\n",
    "      \n",
    "       if tokn.dep_ != \"punct\":\n",
    "           #  check if token is compound word or not\n",
    "           if tokn.dep_ == \"compound\":\n",
    "               prefix = tokn.text\n",
    "               # add the current word to it if the previous word is 'compound’\n",
    "               if dep_prev_token == \"compound\":\n",
    "                   prefix = txt_prev_token + \" \"+ tokn.text\n",
    "                  \n",
    "           # verify if token is modifier or not\n",
    "           if tokn.dep_.endswith(\"mod\") == True:\n",
    "               modifier = tokn.text\n",
    "               # add it to the current word if the previous word is 'compound'\n",
    "               if dep_prev_token == \"compound\":\n",
    "                   modifier = txt_prev_token + \" \"+ tokn.text\n",
    "                  \n",
    "           # chunk3\n",
    "           if tokn.dep_.find(\"subj\") == True:\n",
    "               enti_one = modifier +\" \"+ prefix + \" \"+ tokn.text\n",
    "               prefix = \"\"\n",
    "               modifier = \"\"\n",
    "               dep_prev_token = \"\"\n",
    "               txt_prev_token = \"\"\n",
    "              \n",
    "           # chunk4\n",
    "           if tokn.dep_.find(\"obj\") == True:\n",
    "               enti_two = modifier +\" \"+ prefix +\" \"+ tokn.text\n",
    "              \n",
    "           # chunk 5\n",
    "           # update variable\n",
    "           dep_prev_token = tokn.dep_\n",
    "           txt_prev_token = tokn.text\n",
    "          \n",
    "   return [enti_one.strip(), enti_two.strip()]"
   ]
  },
  {
   "cell_type": "code",
   "execution_count": 5,
   "id": "2027628e",
   "metadata": {},
   "outputs": [
    {
     "data": {
      "text/plain": [
       "['hydroiodic degradation products', 'ecotoxicity']"
      ]
     },
     "execution_count": 5,
     "metadata": {},
     "output_type": "execute_result"
    }
   ],
   "source": [
    "extract_entities(\"considered the exposure scenario of halide solar cell panels in operation, failing due to harsh environmental conditions. This may create a lead leakage in the nearby water bodies, an ecotoxicology problem. Effectively, the relatively high-water solubility of lead halide salts comprising perovskite may decompose to PbI2, hydroiodic acid, and methylamine. The degradation products could be evaluated with regard to ecotoxicity (e.g. Zebrafsh, Daphnia and C. elegans media)\")\n",
    "#extract_entities(\"A mixture of dimethylformamide (DMF) and dimethyl sulfoxide (DMSO) is the most popular solvent combination for a perovskite precursor solution. DMF is necessary to ensure a good dissolution of lead iodide, but it is also the most toxic solvent\")"
   ]
  },
  {
   "cell_type": "code",
   "execution_count": null,
   "id": "eaf3344e",
   "metadata": {},
   "outputs": [],
   "source": []
  },
  {
   "cell_type": "code",
   "execution_count": null,
   "id": "a67a5a2d",
   "metadata": {},
   "outputs": [],
   "source": []
  }
 ],
 "metadata": {
  "kernelspec": {
   "display_name": "Python 3 (ipykernel)",
   "language": "python",
   "name": "python3"
  },
  "language_info": {
   "codemirror_mode": {
    "name": "ipython",
    "version": 3
   },
   "file_extension": ".py",
   "mimetype": "text/x-python",
   "name": "python",
   "nbconvert_exporter": "python",
   "pygments_lexer": "ipython3",
   "version": "3.10.9"
  }
 },
 "nbformat": 4,
 "nbformat_minor": 5
}
